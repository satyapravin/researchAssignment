{
 "cells": [
  {
   "cell_type": "code",
   "execution_count": 1,
   "id": "02499f47",
   "metadata": {
    "scrolled": true
   },
   "outputs": [],
   "source": [
    "import pandas as pd\n",
    "import numpy as np"
   ]
  },
  {
   "cell_type": "markdown",
   "id": "e99b3029",
   "metadata": {},
   "source": [
    "## Data analysis and transformation"
   ]
  },
  {
   "cell_type": "code",
   "execution_count": 30,
   "id": "f67ae390",
   "metadata": {
    "scrolled": true
   },
   "outputs": [
    {
     "data": {
      "text/html": [
       "<div>\n",
       "<style scoped>\n",
       "    .dataframe tbody tr th:only-of-type {\n",
       "        vertical-align: middle;\n",
       "    }\n",
       "\n",
       "    .dataframe tbody tr th {\n",
       "        vertical-align: top;\n",
       "    }\n",
       "\n",
       "    .dataframe thead th {\n",
       "        text-align: right;\n",
       "    }\n",
       "</style>\n",
       "<table border=\"1\" class=\"dataframe\">\n",
       "  <thead>\n",
       "    <tr style=\"text-align: right;\">\n",
       "      <th></th>\n",
       "      <th>ticker</th>\n",
       "      <th>last</th>\n",
       "      <th>volume</th>\n",
       "    </tr>\n",
       "    <tr>\n",
       "      <th>date</th>\n",
       "      <th></th>\n",
       "      <th></th>\n",
       "      <th></th>\n",
       "    </tr>\n",
       "  </thead>\n",
       "  <tbody>\n",
       "    <tr>\n",
       "      <th>2013-01-04</th>\n",
       "      <td>1332 JT</td>\n",
       "      <td>169.0987</td>\n",
       "      <td>1464100</td>\n",
       "    </tr>\n",
       "    <tr>\n",
       "      <th>2013-01-07</th>\n",
       "      <td>1332 JT</td>\n",
       "      <td>166.3266</td>\n",
       "      <td>1783500</td>\n",
       "    </tr>\n",
       "    <tr>\n",
       "      <th>2013-01-08</th>\n",
       "      <td>1332 JT</td>\n",
       "      <td>166.3266</td>\n",
       "      <td>1759800</td>\n",
       "    </tr>\n",
       "    <tr>\n",
       "      <th>2013-01-09</th>\n",
       "      <td>1332 JT</td>\n",
       "      <td>165.4026</td>\n",
       "      <td>767800</td>\n",
       "    </tr>\n",
       "    <tr>\n",
       "      <th>2013-01-10</th>\n",
       "      <td>1332 JT</td>\n",
       "      <td>167.2507</td>\n",
       "      <td>1503100</td>\n",
       "    </tr>\n",
       "  </tbody>\n",
       "</table>\n",
       "</div>"
      ],
      "text/plain": [
       "             ticker      last   volume\n",
       "date                                  \n",
       "2013-01-04  1332 JT  169.0987  1464100\n",
       "2013-01-07  1332 JT  166.3266  1783500\n",
       "2013-01-08  1332 JT  166.3266  1759800\n",
       "2013-01-09  1332 JT  165.4026   767800\n",
       "2013-01-10  1332 JT  167.2507  1503100"
      ]
     },
     "execution_count": 30,
     "metadata": {},
     "output_type": "execute_result"
    }
   ],
   "source": [
    "data = pd.read_csv(\"data.zip\", index_col='date', parse_dates=['date'])\n",
    "data.head()"
   ]
  },
  {
   "cell_type": "code",
   "execution_count": 31,
   "id": "894c0e37",
   "metadata": {
    "scrolled": true
   },
   "outputs": [],
   "source": [
    "prices = data.pivot_table(index=['date'],columns=['ticker'], values=['last'] )"
   ]
  },
  {
   "cell_type": "code",
   "execution_count": 109,
   "id": "22a3cff0",
   "metadata": {
    "scrolled": true
   },
   "outputs": [
    {
     "name": "stdout",
     "output_type": "stream",
     "text": [
      "(2005, 248)\n"
     ]
    }
   ],
   "source": [
    "returns = prices.pct_change()\n",
    "returns.replace([np.inf, -np.inf], np.nan, inplace=True)\n",
    "print(returns.shape)\n",
    "returns.columns = returns.columns.get_level_values(1)"
   ]
  },
  {
   "cell_type": "markdown",
   "id": "c7e6cc4d",
   "metadata": {},
   "source": [
    "# Alpha research\n",
    "\n",
    "We try a simple idea if PCA factors can explain the returns of each ticker and identify if a stock is under or over valued."
   ]
  },
  {
   "cell_type": "code",
   "execution_count": 143,
   "id": "433ad1c3",
   "metadata": {
    "scrolled": true
   },
   "outputs": [],
   "source": [
    "from sklearn.decomposition import PCA\n",
    "from sklearn.linear_model import MultiTaskLassoCV"
   ]
  },
  {
   "cell_type": "code",
   "execution_count": 325,
   "id": "07d633ad",
   "metadata": {
    "scrolled": true
   },
   "outputs": [],
   "source": [
    "pca = PCA(n_components=10) # needs more time to identify proper number of factors"
   ]
  },
  {
   "cell_type": "code",
   "execution_count": 326,
   "id": "497c6d2d",
   "metadata": {
    "scrolled": false
   },
   "outputs": [
    {
     "name": "stdout",
     "output_type": "stream",
     "text": [
      "iterations:  250\n",
      "iterations:  275\n",
      "iterations:  300\n",
      "iterations:  325\n",
      "iterations:  350\n",
      "iterations:  375\n",
      "iterations:  400\n",
      "iterations:  425\n",
      "iterations:  450\n",
      "iterations:  475\n"
     ]
    }
   ],
   "source": [
    "insample = 500 # use first 250 days as in-sample data. Can use more but lack of time.\n",
    "\n",
    "predictions = pd.DataFrame()\n",
    "# could have done rolling apply but time constraints. Will revise in next iteration.\n",
    "for i in range(250, insample):\n",
    "    R = returns.iloc[i-250:i+1] # since i+1 is not inclusive\n",
    "    R = R.dropna(axis=1, how='all')\n",
    "    R = R.dropna(axis=0, how='all')\n",
    "    R = R.fillna(0)\n",
    "    f = pca.fit_transform(R)\n",
    "    model = MultiTaskLassoCV(cv=3, random_state=0).fit(f, R) # used only 3 cv due to time constraints. Also can test fit.\n",
    "    pred = model.predict(f[-1:]) # forecast last day return using fitted model\n",
    "    df = pd.DataFrame(pred - R.values[-1], columns=R.columns, index=[returns.index[i]]) # undervalued/overvalued prediction\n",
    "    predictions = pd.concat([predictions, df])\n",
    "    if i % 25 == 0:\n",
    "        print(\"iterations: \", i)"
   ]
  },
  {
   "cell_type": "code",
   "execution_count": 347,
   "id": "a1d5689d",
   "metadata": {
    "scrolled": true
   },
   "outputs": [
    {
     "data": {
      "text/plain": [
       "SpearmanrResult(correlation=0.0071569046185267415, pvalue=0.08745341176522778)"
      ]
     },
     "execution_count": 347,
     "metadata": {},
     "output_type": "execute_result"
    }
   ],
   "source": [
    "from scipy.stats import spearmanr\n",
    "\n",
    "forecasts = predictions.fillna(0).shift(1).dropna() # shift predictions by 1 day\n",
    "futureReturns = returns.loc[forecasts.index, forecasts.columns].fillna(0)\n",
    "spearmanr(forecasts.values, futureReturns.values, axis=None) # needs more hypothesis tests (lack of time)"
   ]
  },
  {
   "cell_type": "markdown",
   "id": "98d5edaf",
   "metadata": {},
   "source": [
    "# Insample Backtest"
   ]
  },
  {
   "cell_type": "code",
   "execution_count": 385,
   "id": "8f2f542c",
   "metadata": {
    "scrolled": true
   },
   "outputs": [],
   "source": [
    "weights = forecasts.apply(lambda x: x / x.abs().sum(), axis=1) \n",
    "N = weights.shape[1]\n",
    "weights = weights.clip(lower=-1.5/N, upper=1.5/N, axis=1) # winsorize\n",
    "weights = weights.apply(lambda x: x / x.abs().sum(), axis=1) \n",
    "\n",
    "# also select only top and bottom N stocks"
   ]
  },
  {
   "cell_type": "code",
   "execution_count": 386,
   "id": "725e9503",
   "metadata": {
    "scrolled": true
   },
   "outputs": [],
   "source": [
    "ticker_returns = weights.multiply(futureReturns)"
   ]
  },
  {
   "cell_type": "code",
   "execution_count": 387,
   "id": "7e4d7cae",
   "metadata": {
    "scrolled": true
   },
   "outputs": [],
   "source": [
    "portfolio_returns = ticker_returns.sum(axis=1)"
   ]
  },
  {
   "cell_type": "code",
   "execution_count": 388,
   "id": "cbe63875",
   "metadata": {
    "scrolled": true
   },
   "outputs": [
    {
     "data": {
      "text/plain": [
       "<AxesSubplot:>"
      ]
     },
     "execution_count": 388,
     "metadata": {},
     "output_type": "execute_result"
    },
    {
     "data": {
      "image/png": "[encoded data removed]",
      "text/plain": [
       "<Figure size 432x288 with 1 Axes>"
      ]
     },
     "metadata": {
      "needs_background": "light"
     },
     "output_type": "display_data"
    }
   ],
   "source": [
    "portfolio_returns.cumsum(axis=0).plot()"
   ]
  },
  {
   "cell_type": "code",
   "execution_count": 389,
   "id": "fc7d0a85",
   "metadata": {},
   "outputs": [
    {
     "name": "stdout",
     "output_type": "stream",
     "text": [
      "crude risk reward:  1.3625758874628986\n"
     ]
    }
   ],
   "source": [
    "risk_reward_ratio = portfolio_returns.mean() * 250.0 / (portfolio_returns.std() * np.sqrt(250))\n",
    "print(\"crude risk reward: \", risk_reward_ratio)"
   ]
  },
  {
   "cell_type": "markdown",
   "id": "be213aac",
   "metadata": {},
   "source": [
    "## Alpha Decay"
   ]
  },
  {
   "cell_type": "code",
   "execution_count": 390,
   "id": "0d086287",
   "metadata": {},
   "outputs": [
    {
     "data": {
      "text/plain": [
       "<AxesSubplot:>"
      ]
     },
     "execution_count": 390,
     "metadata": {},
     "output_type": "execute_result"
    },
    {
     "data": {
      "image/png": "[encoded data removed]",
      "text/plain": [
       "<Figure size 432x288 with 1 Axes>"
      ]
     },
     "metadata": {
      "needs_background": "light"
     },
     "output_type": "display_data"
    }
   ],
   "source": [
    "shifted_returns = pd.DataFrame()\n",
    "\n",
    "for i in range(1, 5):\n",
    "    shifted_returns[str(i)] = weights.shift(i).fillna(0).multiply(futureReturns).sum(axis=1).cumsum(axis=0)\n",
    "    \n",
    "shifted_returns.plot()"
   ]
  },
  {
   "cell_type": "markdown",
   "id": "59dd0209",
   "metadata": {},
   "source": [
    "## Out of sample backtest"
   ]
  },
  {
   "cell_type": "code",
   "execution_count": 374,
   "id": "8a8a6e73",
   "metadata": {},
   "outputs": [],
   "source": [
    "# need more time to run this on larger dataset"
   ]
  }
 ],
 "metadata": {
  "kernelspec": {
   "display_name": "Python 3 (ipykernel)",
   "language": "python",
   "name": "python3"
  },
  "language_info": {
   "codemirror_mode": {
    "name": "ipython",
    "version": 3
   },
   "file_extension": ".py",
   "mimetype": "text/x-python",
   "name": "python",
   "nbconvert_exporter": "python",
   "pygments_lexer": "ipython3",
   "version": "3.9.7"
  }
 },
 "nbformat": 4,
 "nbformat_minor": 5
}
